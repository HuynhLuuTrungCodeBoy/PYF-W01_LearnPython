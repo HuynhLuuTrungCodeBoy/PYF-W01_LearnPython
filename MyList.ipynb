{
 "cells": [
  {
   "cell_type": "code",
   "execution_count": 4,
   "id": "3ea0be4f-1631-442c-bca9-2db02611d878",
   "metadata": {},
   "outputs": [
    {
     "name": "stdout",
     "output_type": "stream",
     "text": [
      "['Mike', 'Emma', 'Kelly', 'Brad']\n"
     ]
    }
   ],
   "source": [
    "list1 = [\"Mike\", \"\", \"Emma\", \"Kelly\", \"\", \"Brad\"]\n",
    "\n",
    "# Sử dụng vòng lặp for và phương thức pop() để xoá tất cả các chuỗi rỗng\n",
    "index = 0\n",
    "while index < len(list1):\n",
    "    if list1[index] == \"\":\n",
    "        list1.pop(index)\n",
    "    else:\n",
    "        index += 1\n",
    "\n",
    "print(list1)\n"
   ]
  },
  {
   "cell_type": "code",
   "execution_count": 7,
   "id": "cd78daae-d8da-4926-a83e-4c7ab88f0d20",
   "metadata": {},
   "outputs": [
    {
     "name": "stdout",
     "output_type": "stream",
     "text": [
      "['Mike', 'Emma', 'Kelly', 'Brad']\n"
     ]
    }
   ],
   "source": [
    "list1 = [\"Mike\", \"\", \"Emma\", \"Kelly\", \"\", \"Brad\"]\n",
    "\n",
    "#pop\n",
    "index=0\n",
    "while index<len(list1):\n",
    "    if list1[index]=='':\n",
    "        list1.pop(index)\n",
    "    else:\n",
    "        index+=1\n",
    "print(list1)"
   ]
  },
  {
   "cell_type": "code",
   "execution_count": 12,
   "id": "f882483a-1bf2-4ec9-992e-55a0b1768c1a",
   "metadata": {},
   "outputs": [
    {
     "name": "stdout",
     "output_type": "stream",
     "text": [
      "['Mike', 'Emma', 'Kelly', 'Brad']\n"
     ]
    }
   ],
   "source": [
    "list1 = [\"Mike\", \"\", \"Emma\", \"Kelly\", \"\", \"Brad\"]\n",
    "list2=[]\n",
    "#slicing list\n",
    "list2=list1[0:1:]+list1[2:3:]+list1[3:4:]+list1[5:6:]\n",
    "print(list2)"
   ]
  },
  {
   "cell_type": "code",
   "execution_count": 21,
   "id": "bfb8c2c7-91d9-4ada-a170-4fb6236b8671",
   "metadata": {},
   "outputs": [
    {
     "name": "stdout",
     "output_type": "stream",
     "text": [
      "['Mike', 'Emma', 'Kelly', 'Brad']\n"
     ]
    }
   ],
   "source": [
    "list1 = [\"Mike\", \"\", \"Emma\", \"Kelly\", \"\", \"Brad\"]\n",
    "list2=[]\n",
    "#slicing list\n",
    "length=len(list1)\n",
    "for i in range(length):\n",
    "    if list1[i]!=\"\":\n",
    "        list2+=list1[i:i+1:]\n",
    "print(list2)\n"
   ]
  },
  {
   "cell_type": "code",
   "execution_count": 22,
   "id": "5967f98e-0f60-4a68-b296-0e9067f4171a",
   "metadata": {},
   "outputs": [
    {
     "name": "stdout",
     "output_type": "stream",
     "text": [
      "['Mike', 'Emma', 'Kelly', 'Brad']\n"
     ]
    }
   ],
   "source": [
    "list1 = [\"Mike\", \"\", \"Emma\", \"Kelly\", \"\", \"Brad\"]\n",
    "\n",
    "# Sử dụng vòng lặp while và phương thức remove() để xoá tất cả các chuỗi rỗng\n",
    "while \"\" in list1:\n",
    "    list1.remove(\"\")\n",
    "\n",
    "print(list1)"
   ]
  },
  {
   "cell_type": "code",
   "execution_count": 23,
   "id": "2d4671e9-e14c-4513-b8d2-accf3d57baf9",
   "metadata": {},
   "outputs": [
    {
     "name": "stdout",
     "output_type": "stream",
     "text": [
      "['Mike', 'Emma', 'Kelly', 'Brad']\n"
     ]
    }
   ],
   "source": [
    "list1 = [\"Mike\", \"\", \"Emma\", \"Kelly\", \"\", \"Brad\"]\n",
    "\n",
    "# Sử dụng vòng lặp while và del để xoá tất cả các chuỗi rỗng\n",
    "i = 0\n",
    "while i < len(list1):\n",
    "    if list1[i] == \"\":\n",
    "        del list1[i]\n",
    "    else:\n",
    "        i += 1\n",
    "\n",
    "print(list1)\n"
   ]
  }
 ],
 "metadata": {
  "kernelspec": {
   "display_name": "Python 3 (ipykernel)",
   "language": "python",
   "name": "python3"
  },
  "language_info": {
   "codemirror_mode": {
    "name": "ipython",
    "version": 3
   },
   "file_extension": ".py",
   "mimetype": "text/x-python",
   "name": "python",
   "nbconvert_exporter": "python",
   "pygments_lexer": "ipython3",
   "version": "3.11.3"
  }
 },
 "nbformat": 4,
 "nbformat_minor": 5
}
