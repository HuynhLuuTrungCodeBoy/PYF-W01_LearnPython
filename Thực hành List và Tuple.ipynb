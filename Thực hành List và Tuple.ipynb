{
 "cells": [
  {
   "cell_type": "markdown",
   "id": "f232e8d3",
   "metadata": {},
   "source": [
    "## Bài 1: reversed list\n",
    "Hãy viết một chương trình để đảo ngược các phần tử trong list"
   ]
  },
  {
   "cell_type": "code",
   "execution_count": null,
   "id": "76a27163",
   "metadata": {},
   "outputs": [],
   "source": [
    "aList = [100, 200, 300, 400, 500]"
   ]
  },
  {
   "cell_type": "markdown",
   "id": "cc8fadd4",
   "metadata": {},
   "source": [
    "**Output:**"
   ]
  },
  {
   "cell_type": "code",
   "execution_count": null,
   "id": "7e6f728c",
   "metadata": {},
   "outputs": [],
   "source": [
    "[500, 400, 300, 200, 100]"
   ]
  },
  {
   "cell_type": "code",
   "execution_count": 23,
   "id": "4e76942b",
   "metadata": {},
   "outputs": [
    {
     "name": "stdout",
     "output_type": "stream",
     "text": [
      "[500, 400, 300, 200, 100]\n"
     ]
    }
   ],
   "source": [
    "aList = [100, 200, 300, 400, 500]\n",
    "# code below this line\n",
    "aList=aList[::-1]\n",
    "print(aList)\n",
    "# code above this line"
   ]
  },
  {
   "cell_type": "markdown",
   "id": "df9f3540",
   "metadata": {},
   "source": [
    "## Bài 2: concatenation\n",
    "Hãy tạo ra một list mới bằng cách cộng các phần tử tương ứng của list cũ theo index tương ứng"
   ]
  },
  {
   "cell_type": "code",
   "execution_count": null,
   "id": "be729af4",
   "metadata": {},
   "outputs": [],
   "source": [
    "list1 = [\"M\", \"na\", \"i\", \"Ke\"]\n",
    "list2 = [\"y\", \"me\", \"s\", \"lly\"]"
   ]
  },
  {
   "cell_type": "markdown",
   "id": "843840c3",
   "metadata": {},
   "source": [
    "**Output:**"
   ]
  },
  {
   "cell_type": "code",
   "execution_count": null,
   "id": "3584d82f",
   "metadata": {},
   "outputs": [],
   "source": [
    "['My', 'name', 'is', 'Kelly']"
   ]
  },
  {
   "cell_type": "markdown",
   "id": "9af86a26-7cd5-4b3b-bb54-186bd065ca15",
   "metadata": {},
   "source": [
    "##### Kỹ thuật append"
   ]
  },
  {
   "cell_type": "code",
   "execution_count": 31,
   "id": "35e732f6",
   "metadata": {},
   "outputs": [
    {
     "name": "stdout",
     "output_type": "stream",
     "text": [
      "['My', 'name', 'is', 'Kelly']\n"
     ]
    }
   ],
   "source": [
    "list1 = [\"M\", \"na\", \"i\", \"Ke\"]\n",
    "list2 = [\"y\", \"me\", \"s\", \"lly\"]\n",
    "# code below this line\n",
    "length=len(list1)\n",
    "list_new1=[]\n",
    "for i in range(length):\n",
    "    list_new1.append(list1[i]+list2[i])\n",
    "print(list_new1)\n",
    "# code above this line"
   ]
  },
  {
   "cell_type": "markdown",
   "id": "4cb3cf20-fe69-47ef-8aaa-227ec6521ff4",
   "metadata": {},
   "source": [
    "##### kỹ thuật cộng list"
   ]
  },
  {
   "cell_type": "code",
   "execution_count": 40,
   "id": "6cf38746-93b9-4a9f-a4c6-7424961cc2e1",
   "metadata": {},
   "outputs": [
    {
     "name": "stdout",
     "output_type": "stream",
     "text": [
      "['My', 'name', 'is', 'Kelly']\n"
     ]
    }
   ],
   "source": [
    "list1 = [\"M\", \"na\", \"i\", \"Ke\"]\n",
    "list2 = [\"y\", \"me\", \"s\", \"lly\"]\n",
    "# code below this line\n",
    "length=len(list1)\n",
    "list_new=[]\n",
    "for i in range(length):\n",
    "    list_new+=[list1[i]+list2[i]]\n",
    "print(list_new)\n",
    "# code above this line"
   ]
  },
  {
   "cell_type": "markdown",
   "id": "06668393-3966-4f0b-bcd6-7a65f1b7072a",
   "metadata": {},
   "source": [
    "##### Kỹ thuật list comprehension: (học từ AI)"
   ]
  },
  {
   "cell_type": "code",
   "execution_count": 32,
   "id": "32452576-6a93-480a-ab2f-4a5c03d4d892",
   "metadata": {},
   "outputs": [
    {
     "name": "stdout",
     "output_type": "stream",
     "text": [
      "['My', 'name', 'is', 'Kelly']\n"
     ]
    }
   ],
   "source": [
    "list1 = [\"M\", \"na\", \"i\", \"Ke\"]\n",
    "list2 = [\"y\", \"me\", \"s\", \"lly\"]\n",
    "# code below this line\n",
    "length=len(list1)\n",
    "list_new=[list1[i]+list2[i] for i in range(length)]\n",
    "print(list_new)\n",
    "# code above this line"
   ]
  },
  {
   "cell_type": "markdown",
   "id": "6f6a4a7d",
   "metadata": {},
   "source": [
    "## Bài 3: squared list\n",
    "Cho sẵn một list chứa các số tự nhiên. Bình phương các phần tử trong list và lưu vào một list mới."
   ]
  },
  {
   "cell_type": "code",
   "execution_count": null,
   "id": "0f3a0621",
   "metadata": {},
   "outputs": [],
   "source": [
    "aList = [1, 2, 3, 4, 5, 6, 7]"
   ]
  },
  {
   "cell_type": "markdown",
   "id": "adbeff53",
   "metadata": {},
   "source": [
    "**Output**"
   ]
  },
  {
   "cell_type": "markdown",
   "id": "ee5bd41e-68b4-4c48-ae00-1d03a009e904",
   "metadata": {},
   "source": [
    "##### Kỹ thuật append duyệt theo value"
   ]
  },
  {
   "cell_type": "code",
   "execution_count": 52,
   "id": "809cb15b",
   "metadata": {},
   "outputs": [
    {
     "name": "stdout",
     "output_type": "stream",
     "text": [
      "[1, 16, 81, 256, 625, 1296, 2401]\n"
     ]
    }
   ],
   "source": [
    "aList = [1, 4, 9, 16, 25, 36, 49]\n",
    "# code below this line\n",
    "nList1=[]\n",
    "for i in aList:\n",
    "    nList1.append(i*i)\n",
    "print(nList1)\n",
    "# code above this line"
   ]
  },
  {
   "cell_type": "markdown",
   "id": "cdaff291-c0a3-4231-a6fd-16216713779b",
   "metadata": {},
   "source": [
    "##### Kỹ thuật append duyệt theo index"
   ]
  },
  {
   "cell_type": "code",
   "execution_count": 53,
   "id": "0e8bd7fc-322f-4be3-8d1d-b5853eeb1626",
   "metadata": {},
   "outputs": [
    {
     "name": "stdout",
     "output_type": "stream",
     "text": [
      "[1, 16, 81, 256, 625, 1296, 2401]\n"
     ]
    }
   ],
   "source": [
    "aList = [1, 4, 9, 16, 25, 36, 49]\n",
    "# code below this line\n",
    "nList2=[]\n",
    "length=len(aList)\n",
    "for i in range(length):\n",
    "    nList2.append(aList[i]**2)\n",
    "print(nList2)\n",
    "# code above this line"
   ]
  },
  {
   "cell_type": "markdown",
   "id": "3bef117f-e4eb-4024-aa76-fed27d6a48ba",
   "metadata": {},
   "source": [
    "##### Kỹ thuật cộng list"
   ]
  },
  {
   "cell_type": "code",
   "execution_count": 54,
   "id": "7d3ad5b3-b717-4ee0-82c5-c2c599226068",
   "metadata": {},
   "outputs": [
    {
     "name": "stdout",
     "output_type": "stream",
     "text": [
      "[1, 16, 81, 256, 625, 1296, 2401]\n"
     ]
    }
   ],
   "source": [
    "aList = [1, 4, 9, 16, 25, 36, 49]\n",
    "# code below this line\n",
    "nList3=[]\n",
    "for i in aList:\n",
    "    nList3+=[i*i]\n",
    "print(nList3)\n",
    "# code above this line"
   ]
  },
  {
   "cell_type": "markdown",
   "id": "809626ce-cffc-41c4-a51a-e4e14ed1c836",
   "metadata": {},
   "source": [
    "#### Kỹ thuật List Comprehension"
   ]
  },
  {
   "cell_type": "code",
   "execution_count": 55,
   "id": "c1e818c1-1880-47d2-b9a2-d93df5634d35",
   "metadata": {},
   "outputs": [
    {
     "name": "stdout",
     "output_type": "stream",
     "text": [
      "[1, 16, 81, 256, 625, 1296, 2401]\n"
     ]
    }
   ],
   "source": [
    "aList = [1, 4, 9, 16, 25, 36, 49]\n",
    "# code below this line\n",
    "nList4=[i*i for i in aList]\n",
    "print(nList4)\n",
    "# code above this line"
   ]
  },
  {
   "cell_type": "markdown",
   "id": "e013e6e3",
   "metadata": {},
   "source": [
    "## Bài 4: concatenation 2\n",
    "Tạo ra một list mới từ 2 list ban đầu theo thứ tự như sau:"
   ]
  },
  {
   "cell_type": "code",
   "execution_count": null,
   "id": "3556bdb0",
   "metadata": {},
   "outputs": [],
   "source": [
    "list1 = [\"Hello \", \"take \"]\n",
    "list2 = [\"Dear\", \"Sir\"]"
   ]
  },
  {
   "cell_type": "markdown",
   "id": "c449c5ef",
   "metadata": {},
   "source": [
    "**Output**"
   ]
  },
  {
   "cell_type": "code",
   "execution_count": null,
   "id": "38473ed0",
   "metadata": {},
   "outputs": [],
   "source": [
    "['Hello Dear', 'Hello Sir', 'take Dear', 'take Sir']"
   ]
  },
  {
   "cell_type": "markdown",
   "id": "42c9bdbe-c755-4e4e-ab92-21dd2b40d63b",
   "metadata": {},
   "source": [
    "##### Kỹ thuật append duyệt phần tử theo index"
   ]
  },
  {
   "cell_type": "code",
   "execution_count": 49,
   "id": "194ce3e1",
   "metadata": {},
   "outputs": [
    {
     "name": "stdout",
     "output_type": "stream",
     "text": [
      "['Hello Dear', 'Hello Sir', 'take Dear', 'take Sir']\n"
     ]
    }
   ],
   "source": [
    "list1 = [\"Hello \", \"take \"]\n",
    "list2 = [\"Dear\", \"Sir\"]\n",
    "listn1=[]\n",
    "# code below this line\n",
    "for i in range(2):\n",
    "    for j in range(2):\n",
    "        listn1.append(list1[i]+list2[j])\n",
    "print(listn)\n",
    "# code above this line"
   ]
  },
  {
   "cell_type": "markdown",
   "id": "fce47388-f44b-400f-9628-01661d645e60",
   "metadata": {},
   "source": [
    "##### Kỹ thuật append duyệt phần tử theo value"
   ]
  },
  {
   "cell_type": "code",
   "execution_count": 50,
   "id": "d556f7c0-927a-4298-b677-a4aeab33f507",
   "metadata": {},
   "outputs": [
    {
     "name": "stdout",
     "output_type": "stream",
     "text": [
      "['Hello Dear', 'Hello Sir', 'take Dear', 'take Sir']\n"
     ]
    }
   ],
   "source": [
    "list1 = [\"Hello \", \"take \"]\n",
    "list2 = [\"Dear\", \"Sir\"]\n",
    "listn2=[]\n",
    "# code below this line\n",
    "for i in list1:\n",
    "    for j in list2:\n",
    "        listn2.append(i+j)\n",
    "print(listn2)\n",
    "# code above this line"
   ]
  },
  {
   "cell_type": "markdown",
   "id": "96cac46b-f171-420d-90cc-651517aa01e5",
   "metadata": {},
   "source": [
    "##### Kỹ thuật List Comprehension:"
   ]
  },
  {
   "cell_type": "code",
   "execution_count": 51,
   "id": "a3cf05d0-2c9a-4afb-8870-4e2533166b65",
   "metadata": {},
   "outputs": [
    {
     "name": "stdout",
     "output_type": "stream",
     "text": [
      "['Hello Dear', 'Hello Sir', 'take Dear', 'take Sir']\n"
     ]
    }
   ],
   "source": [
    "list1 = [\"Hello \", \"take \"]\n",
    "list2 = [\"Dear\", \"Sir\"]\n",
    "\n",
    "# code below this line\n",
    "listn3=[i+j for i in list1 for j in list2]\n",
    "print(listn3)\n",
    "# code above this line"
   ]
  },
  {
   "cell_type": "markdown",
   "id": "c9e280ff",
   "metadata": {},
   "source": [
    "## Bài 5: print list\n",
    "Cho 2 list có cùng số phần tử với nhau. Hãy in các thành phần trong 2 list theo format dưới đây:"
   ]
  },
  {
   "cell_type": "code",
   "execution_count": null,
   "id": "1a83314a",
   "metadata": {},
   "outputs": [],
   "source": [
    "list1 = [10, 20, 30, 40]\n",
    "list2 = [100, 200, 300, 400]"
   ]
  },
  {
   "cell_type": "markdown",
   "id": "9a4808a3",
   "metadata": {},
   "source": [
    "**Output**"
   ]
  },
  {
   "cell_type": "code",
   "execution_count": null,
   "id": "9569f340",
   "metadata": {},
   "outputs": [],
   "source": [
    "10 400\n",
    "20 300\n",
    "30 200\n",
    "40 100"
   ]
  },
  {
   "cell_type": "code",
   "execution_count": 57,
   "id": "6c111e2a",
   "metadata": {},
   "outputs": [
    {
     "name": "stdout",
     "output_type": "stream",
     "text": [
      "10 400\n",
      "20 300\n",
      "30 200\n",
      "40 100\n"
     ]
    }
   ],
   "source": [
    "list1 = [10, 20, 30, 40]\n",
    "list2 = [100, 200, 300, 400]\n",
    "# code below this line\n",
    "for i in range(4):\n",
    "    print(list1[i],list2[-1-i])\n",
    "# code above this line"
   ]
  },
  {
   "cell_type": "markdown",
   "id": "bd9edc4a",
   "metadata": {},
   "source": [
    "## Bài 6: remove empty\n",
    "Hãy xóa tất cả empty string trong list đã cho."
   ]
  },
  {
   "cell_type": "code",
   "execution_count": 11,
   "id": "5ec76730",
   "metadata": {},
   "outputs": [
    {
     "name": "stdout",
     "output_type": "stream",
     "text": [
      "['Mike', 'Emma', 'Kelly', 'Brad']\n"
     ]
    }
   ],
   "source": [
    "list1 = [\"Mike\", \"\", \"Emma\", \"Kelly\", \"\", \"Brad\"]"
   ]
  },
  {
   "cell_type": "markdown",
   "id": "69056c1c",
   "metadata": {},
   "source": [
    "**Output**"
   ]
  },
  {
   "cell_type": "code",
   "execution_count": null,
   "id": "3aa7e6c9",
   "metadata": {},
   "outputs": [],
   "source": [
    "[\"Mike\", \"Emma\", \"Kelly\", \"Brad\"]"
   ]
  },
  {
   "cell_type": "markdown",
   "id": "1dba49a5-1609-4946-8502-ae5542f49514",
   "metadata": {},
   "source": [
    "##### Cách 1: Dùng pop(index) (pop là hàm xử lý chỉ số)"
   ]
  },
  {
   "cell_type": "code",
   "execution_count": 14,
   "id": "ef5698ec",
   "metadata": {},
   "outputs": [
    {
     "name": "stdout",
     "output_type": "stream",
     "text": [
      "['Mike', 'Emma', 'Kelly', 'Brad']\n"
     ]
    }
   ],
   "source": [
    "list1 = [\"Mike\", \"\", \"Emma\", \"Kelly\", \"\", \"Brad\"]\n",
    "# code below this line\n",
    "i=0\n",
    "while i < len(list1):\n",
    "    if list1[i]==\"\":\n",
    "        list1.pop(i) # pop(index)\n",
    "    else:\n",
    "        i+=1\n",
    "print(list1)\n",
    "# code above this line"
   ]
  },
  {
   "cell_type": "markdown",
   "id": "5cff822c-a81d-4970-b6ee-62349304ffe2",
   "metadata": {},
   "source": [
    "##### Cách 2: Dùng Slicing list"
   ]
  },
  {
   "cell_type": "code",
   "execution_count": 13,
   "id": "f9c57c22-8e3d-427d-8235-c33c74bae7c2",
   "metadata": {},
   "outputs": [
    {
     "name": "stdout",
     "output_type": "stream",
     "text": [
      "['Mike', 'Emma', 'Kelly', 'Brad']\n"
     ]
    }
   ],
   "source": [
    "list1 = [\"Mike\", \"\", \"Emma\", \"Kelly\", \"\", \"Brad\"]\n",
    "# code below this line\n",
    "list2=[]\n",
    "length=len(list1)\n",
    "for i in range(length):\n",
    "    if list1[i]!=\"\":\n",
    "        list2+=list1[i:i+1:]\n",
    "list1=list2\n",
    "print(list1)\n",
    "# code above this line"
   ]
  },
  {
   "cell_type": "markdown",
   "id": "f3b735ab-04a6-4998-8ce0-739922729ac3",
   "metadata": {},
   "source": [
    "### cách khác: Cách này hay hơn cách trên."
   ]
  },
  {
   "cell_type": "code",
   "execution_count": 60,
   "id": "adc933e4-49cf-43db-bc14-37cfa07c6129",
   "metadata": {},
   "outputs": [
    {
     "name": "stdout",
     "output_type": "stream",
     "text": [
      "['Mike', 'Emma', 'Kelly', 'Brad']\n"
     ]
    }
   ],
   "source": [
    "list1 = [\"Mike\", \"\", \"Emma\", \"Kelly\", \"\", \"Brad\"]\n",
    "# code below this line\n",
    "i=0\n",
    "while i<len(list1):\n",
    "    if list1[i]==\"\":\n",
    "        list1=list1[:i]+list1[i+1:]\n",
    "    else:\n",
    "        i+=1\n",
    "print(list1)\n",
    "# code above this line"
   ]
  },
  {
   "cell_type": "markdown",
   "id": "b7027cab-97ca-4e1b-b150-1082714e336d",
   "metadata": {},
   "source": [
    "##### Cách3: Dùng remove(value) (Hàm xử lý giá trị)"
   ]
  },
  {
   "cell_type": "code",
   "execution_count": 9,
   "id": "ecb8faed-c111-4b74-94ad-e9bafd31a4e2",
   "metadata": {},
   "outputs": [
    {
     "name": "stdout",
     "output_type": "stream",
     "text": [
      "['Mike', 'Emma', 'Kelly', 'Brad']\n"
     ]
    }
   ],
   "source": [
    "list1 = [\"Mike\", \"\", \"Emma\", \"Kelly\", \"\", \"Brad\"]\n",
    "# code below this line\n",
    "while \"\" in list1:\n",
    "    list1.remove(\"\") #remove(value)\n",
    "print(list1)\n",
    "# code above this line"
   ]
  },
  {
   "cell_type": "markdown",
   "id": "72c265b7-1845-413d-bd7d-3aa5e4b791bd",
   "metadata": {},
   "source": [
    "##### Cách 4: Dùng del()"
   ]
  },
  {
   "cell_type": "code",
   "execution_count": 19,
   "id": "031df1d7-2cec-4f16-89f6-1dd243333a54",
   "metadata": {},
   "outputs": [
    {
     "name": "stdout",
     "output_type": "stream",
     "text": [
      "['Mike', 'Emma', 'Kelly', 'Brad']\n"
     ]
    }
   ],
   "source": [
    "list1 = [\"Mike\", \"\", \"Emma\", \"Kelly\", \"\", \"Brad\"]\n",
    "# code below this line\n",
    "i=0\n",
    "while i < len(list1):\n",
    "    if list1[i]==\"\":\n",
    "        del list1[i]\n",
    "    else:\n",
    "        i+=1\n",
    "print(list1)\n",
    "# code above this line"
   ]
  },
  {
   "cell_type": "markdown",
   "id": "75ceada5",
   "metadata": {},
   "source": [
    "## Bài 7: list replacement\n",
    "Hãy tìm và thay thế số 20 **đầu tiên** trong list thành 200."
   ]
  },
  {
   "cell_type": "code",
   "execution_count": null,
   "id": "d164db9c",
   "metadata": {},
   "outputs": [],
   "source": [
    "list1 = [5, 10, 15, 20, 25, 50, 20]"
   ]
  },
  {
   "cell_type": "markdown",
   "id": "4fbe79da",
   "metadata": {},
   "source": [
    "**Output**"
   ]
  },
  {
   "cell_type": "code",
   "execution_count": null,
   "id": "02bab1e7",
   "metadata": {},
   "outputs": [],
   "source": [
    "[5, 10, 15, 200, 25, 50, 20]"
   ]
  },
  {
   "cell_type": "code",
   "execution_count": 18,
   "id": "1f2f2fd3",
   "metadata": {},
   "outputs": [
    {
     "name": "stdout",
     "output_type": "stream",
     "text": [
      "[5, 10, 15, 200, 25, 50, 20]\n"
     ]
    }
   ],
   "source": [
    "list1 = [5, 10, 15, 20, 25, 50, 20]\n",
    "# code below this line\n",
    "for i in range(len(list1)-1):\n",
    "    if list1[i]==20:\n",
    "        list1[i]=200\n",
    "        break\n",
    "print(list1)\n",
    "# code above this line"
   ]
  },
  {
   "cell_type": "markdown",
   "id": "89efccf3-da20-43c9-9d3e-0819fd066760",
   "metadata": {},
   "source": [
    "##### cách 2:"
   ]
  },
  {
   "cell_type": "code",
   "execution_count": 74,
   "id": "2dc236bd-c6f0-4305-8e8f-abea13ea426c",
   "metadata": {},
   "outputs": [
    {
     "name": "stdout",
     "output_type": "stream",
     "text": [
      "Không có 20 trong list1, i đang là 7, độ dài của list1 là 7\n"
     ]
    }
   ],
   "source": [
    "list1 = [5, 10, 15, 200, 25, 50, 200]\n",
    "# code below this line\n",
    "i=0; l=len(list1); so20=False\n",
    "while i<l and not so20:\n",
    "    if list1[i]==20:\n",
    "        so20=True\n",
    "    else:\n",
    "        i+=1\n",
    "#list1[i]=200;print(list1) if so20 else print(\"Không có 20 trong list1\")\n",
    "if so20:\n",
    "    list1[i]=200\n",
    "    print(list1)\n",
    "else:\n",
    "    print(f\"Không có 20 trong list1, i đang là {i}, độ dài của list1 là {l}\")\n",
    " # code above this line"
   ]
  },
  {
   "cell_type": "markdown",
   "id": "8787d19d-d919-45e4-874a-aefacd79ddec",
   "metadata": {},
   "source": [
    "#### cách 3:"
   ]
  },
  {
   "cell_type": "code",
   "execution_count": 78,
   "id": "743f853f-7b61-4d97-afd8-73cd413fa57c",
   "metadata": {},
   "outputs": [
    {
     "name": "stdout",
     "output_type": "stream",
     "text": [
      "[5, 10, 15, 210, 25, 50, 200]\n"
     ]
    }
   ],
   "source": [
    "list1 = [5, 10, 15, 210, 25, 50, 20]\n",
    "# code below this line\n",
    "#index=list1.index(20);list1[index]=200;print(list1) if 20 in list1 else print(\"Không có 20 trong list1\")\n",
    "if 20 in list1:\n",
    "    index=list1.index(20)\n",
    "    list1[index]=200\n",
    "    print(list1)\n",
    "else:\n",
    "    print(\"Không có 20 trong list1\")\n",
    " # code above this line"
   ]
  },
  {
   "cell_type": "markdown",
   "id": "b756639f-41a5-4679-9d46-31fc581b6c08",
   "metadata": {},
   "source": [
    "## Phát hiện quan trọng"
   ]
  },
  {
   "cell_type": "markdown",
   "id": "9f2508b9-5018-48a5-a5f4-ddd4ec39ea0a",
   "metadata": {},
   "source": [
    "Ở cách 2:\n",
    "KHi dùng toán 3 ngôi phần value__if_true thực hiện trước rồi mới xét if nên dễ gây lỗi logic ngoài ý muốn.\n",
    "Nhưng nếu dùng if else thay thế thì nó sẽ kiểm tra điều kiện trước nên không bị lỗi.\n",
    "Ở cách 3:\n",
    "Dùng toán 3 ngôi bị lỗi khi chỉ có 20 đứng cuối. dùng if else thì đúng.\n",
    "Kết luận:\n",
    "Toán 3 ngôi dễ gây lỗi ngoài ý muốn, không nên dùng."
   ]
  },
  {
   "cell_type": "markdown",
   "id": "b5beae3a",
   "metadata": {},
   "source": [
    "## Bài 8: list removement\n",
    "Hãy xóa bỏ **tất cả** số 20 ra khỏi list"
   ]
  },
  {
   "cell_type": "code",
   "execution_count": null,
   "id": "23a095ab",
   "metadata": {},
   "outputs": [],
   "source": [
    "list1 = [5, 20, 15, 20, 25, 50, 20]"
   ]
  },
  {
   "cell_type": "markdown",
   "id": "a01142b6",
   "metadata": {},
   "source": [
    "**Output:**"
   ]
  },
  {
   "cell_type": "code",
   "execution_count": null,
   "id": "7bdab892",
   "metadata": {},
   "outputs": [],
   "source": [
    "[5, 15, 25, 50]"
   ]
  },
  {
   "cell_type": "code",
   "execution_count": 20,
   "id": "b20e64c9",
   "metadata": {},
   "outputs": [
    {
     "name": "stdout",
     "output_type": "stream",
     "text": [
      "[5, 15, 25, 50]\n"
     ]
    }
   ],
   "source": [
    "list1 = [5, 20, 15, 20, 25, 50, 20]\n",
    "# code below this line\n",
    "for i in list1:\n",
    "    if i==20:\n",
    "        list1.remove(i)\n",
    "print(list1)\n",
    "# code above this line"
   ]
  },
  {
   "cell_type": "markdown",
   "id": "20967b09-7d90-4574-a851-a2dae7633bfa",
   "metadata": {},
   "source": [
    "##### cách khác:\n"
   ]
  },
  {
   "cell_type": "code",
   "execution_count": 80,
   "id": "a39654a3-983e-4b30-b27f-10327fd58253",
   "metadata": {},
   "outputs": [
    {
     "name": "stdout",
     "output_type": "stream",
     "text": [
      "[5, 15, 25, 50]\n"
     ]
    }
   ],
   "source": [
    "list1 = [5, 20, 15, 20, 25, 50, 20]\n",
    "# code below this line\n",
    "while 20 in list1:\n",
    "    list1.remove(20)\n",
    "print(list1)\n",
    "# code above this line"
   ]
  },
  {
   "cell_type": "markdown",
   "id": "8a215dc8",
   "metadata": {},
   "source": [
    "## Bài 9: unpack tuple"
   ]
  },
  {
   "cell_type": "code",
   "execution_count": null,
   "id": "b0c88ec3",
   "metadata": {},
   "outputs": [],
   "source": [
    "aTuple = (10, 20, 30, 40)"
   ]
  },
  {
   "cell_type": "code",
   "execution_count": 22,
   "id": "6166ecdb",
   "metadata": {},
   "outputs": [
    {
     "name": "stdout",
     "output_type": "stream",
     "text": [
      "10\n",
      "20\n",
      "30\n",
      "40\n"
     ]
    }
   ],
   "source": [
    "aTuple = (10, 20, 30, 40)\n",
    "a,b,c,d=aTuple\n",
    "print(a) # should print 10\n",
    "print(b) # should print 20\n",
    "print(c) # should print 30\n",
    "print(d) # should print 40"
   ]
  },
  {
   "cell_type": "markdown",
   "id": "046a7351",
   "metadata": {},
   "source": [
    "## Bài 10: swap tuple\n",
    "Hãy thay đổi giá trị của 2 tuple cho nhau"
   ]
  },
  {
   "cell_type": "code",
   "execution_count": null,
   "id": "5818b64c",
   "metadata": {},
   "outputs": [],
   "source": [
    "tuple1 = (11, 22)\n",
    "tuple2 = (99, 88)"
   ]
  },
  {
   "cell_type": "markdown",
   "id": "cac1245f",
   "metadata": {},
   "source": [
    "**Output**"
   ]
  },
  {
   "cell_type": "code",
   "execution_count": null,
   "id": "534d2047",
   "metadata": {},
   "outputs": [],
   "source": [
    "tuple1 = (99, 88)\n",
    "tuple2 = (11, 22)"
   ]
  },
  {
   "cell_type": "code",
   "execution_count": 82,
   "id": "a87aacaf",
   "metadata": {},
   "outputs": [
    {
     "name": "stdout",
     "output_type": "stream",
     "text": [
      "(99, 88)\n",
      "(11, 22)\n"
     ]
    }
   ],
   "source": [
    "tuple1 = (11, 22)\n",
    "tuple2 = (99, 88)\n",
    "# code below this line\n",
    "tuple1,tuple2=tuple2,tuple1\n",
    "print(tuple1)\n",
    "print(tuple2)\n",
    "# code above this line"
   ]
  },
  {
   "cell_type": "markdown",
   "id": "9b809112",
   "metadata": {},
   "source": [
    "## Bài 11: count occurrence\n",
    "Hãy đếm tổng số lần xuất hiện của 50 trong tuple"
   ]
  },
  {
   "cell_type": "code",
   "execution_count": null,
   "id": "a3b700ed",
   "metadata": {},
   "outputs": [],
   "source": [
    "tuple1 = (50, 10, 60, 70, 50)"
   ]
  },
  {
   "cell_type": "markdown",
   "id": "b102abb2",
   "metadata": {},
   "source": [
    "**Output**"
   ]
  },
  {
   "cell_type": "code",
   "execution_count": null,
   "id": "31bf9a80",
   "metadata": {},
   "outputs": [],
   "source": [
    "2"
   ]
  },
  {
   "cell_type": "code",
   "execution_count": 83,
   "id": "8204ebde",
   "metadata": {},
   "outputs": [
    {
     "name": "stdout",
     "output_type": "stream",
     "text": [
      "2\n"
     ]
    }
   ],
   "source": [
    "tuple1 = (50, 10, 60, 70, 50)\n",
    "# code below this line\n",
    "count=0\n",
    "for i in tuple1:\n",
    "    if i==50:\n",
    "        count+=1\n",
    "print(count)\n",
    "# code above this line"
   ]
  },
  {
   "cell_type": "markdown",
   "id": "26740ffd-6a17-4f11-babc-bbc60194710e",
   "metadata": {},
   "source": [
    "##### cách khác: dùng hàm có sẵn"
   ]
  },
  {
   "cell_type": "code",
   "execution_count": 86,
   "id": "d0c4e7bd-e37c-4cb2-ad43-290516aea47c",
   "metadata": {},
   "outputs": [
    {
     "name": "stdout",
     "output_type": "stream",
     "text": [
      "2\n"
     ]
    }
   ],
   "source": [
    "tuple1 = (50, 10, 60, 70, 50)\n",
    "# code below this line\n",
    "count=tuple1.count(50)\n",
    "print(count)\n",
    "# code above this line"
   ]
  },
  {
   "cell_type": "markdown",
   "id": "655416c8",
   "metadata": {},
   "source": [
    "## Bài 12: is it the same?\n",
    "Hãy kiểm tra xem các phần tử trong tuple có giống nhau hay không."
   ]
  },
  {
   "cell_type": "code",
   "execution_count": null,
   "id": "2aa28ca8",
   "metadata": {},
   "outputs": [],
   "source": [
    "tuple1 = (45, 45, 45, 45)"
   ]
  },
  {
   "cell_type": "markdown",
   "id": "da0c1e1f",
   "metadata": {},
   "source": [
    "**Output**"
   ]
  },
  {
   "cell_type": "code",
   "execution_count": null,
   "id": "17ceb626",
   "metadata": {},
   "outputs": [],
   "source": [
    "True"
   ]
  },
  {
   "cell_type": "code",
   "execution_count": 89,
   "id": "2fad5ccd",
   "metadata": {},
   "outputs": [
    {
     "name": "stdout",
     "output_type": "stream",
     "text": [
      "True\n"
     ]
    }
   ],
   "source": [
    "tuple1 = (45, 45, 45, 45)\n",
    "# code below this line\n",
    "mau=tuple1[0]\n",
    "khac=False\n",
    "for i in tuple1:\n",
    "    if i!=mau:\n",
    "        khac=True\n",
    "if khac:\n",
    "    print(\"False\")\n",
    "else:\n",
    "    print(\"True\")\n",
    "# code above this line"
   ]
  }
 ],
 "metadata": {
  "kernelspec": {
   "display_name": "Python 3 (ipykernel)",
   "language": "python",
   "name": "python3"
  },
  "language_info": {
   "codemirror_mode": {
    "name": "ipython",
    "version": 3
   },
   "file_extension": ".py",
   "mimetype": "text/x-python",
   "name": "python",
   "nbconvert_exporter": "python",
   "pygments_lexer": "ipython3",
   "version": "3.11.3"
  }
 },
 "nbformat": 4,
 "nbformat_minor": 5
}
