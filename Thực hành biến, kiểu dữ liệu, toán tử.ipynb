{
 "cells": [
  {
   "cell_type": "markdown",
   "id": "7defa0fd-9862-494b-afbe-ada0c05fb45e",
   "metadata": {},
   "source": [
    "## Bài 1"
   ]
  },
  {
   "cell_type": "markdown",
   "id": "98e31412-3662-4410-9ba7-211077014c5f",
   "metadata": {},
   "source": [
    "Viết chương trình nhập vào 2 số nguyên `num1` và `num2`. In ra tích của 2 số nguyên đó."
   ]
  },
  {
   "cell_type": "code",
   "execution_count": 2,
   "id": "71d3bc5a-cf5a-4387-bec5-7e67767a4c7f",
   "metadata": {},
   "outputs": [
    {
     "name": "stdin",
     "output_type": "stream",
     "text": [
      "Mời nhập số nguyên thứ 1:  3\n",
      "Mời nhập số nguyên thứ 2:  5\n"
     ]
    },
    {
     "name": "stdout",
     "output_type": "stream",
     "text": [
      "Tích của 2 số nguyên 3 và 5 là 15\n"
     ]
    }
   ],
   "source": [
    "num1=int(input(\"Mời nhập số nguyên thứ 1: \"))\n",
    "num2=int(input(\"Mời nhập số nguyên thứ 2: \"))\n",
    "tich=num1*num2\n",
    "print(\"Tích của 2 số nguyên {0} và {1} là {2}\".format(num1,num2,tich))"
   ]
  }
 ],
 "metadata": {
  "kernelspec": {
   "display_name": "Python 3 (ipykernel)",
   "language": "python",
   "name": "python3"
  },
  "language_info": {
   "codemirror_mode": {
    "name": "ipython",
    "version": 3
   },
   "file_extension": ".py",
   "mimetype": "text/x-python",
   "name": "python",
   "nbconvert_exporter": "python",
   "pygments_lexer": "ipython3",
   "version": "3.11.3"
  }
 },
 "nbformat": 4,
 "nbformat_minor": 5
}
