{
 "cells": [
  {
   "cell_type": "markdown",
   "id": "7defa0fd-9862-494b-afbe-ada0c05fb45e",
   "metadata": {},
   "source": [
    "## Bài 1"
   ]
  },
  {
   "cell_type": "markdown",
   "id": "98e31412-3662-4410-9ba7-211077014c5f",
   "metadata": {},
   "source": [
    "Viết chương trình nhập vào 2 số nguyên `num1` và `num2`. In ra tích của 2 số nguyên đó."
   ]
  },
  {
   "cell_type": "code",
   "execution_count": 2,
   "id": "71d3bc5a-cf5a-4387-bec5-7e67767a4c7f",
   "metadata": {},
   "outputs": [
    {
     "name": "stdin",
     "output_type": "stream",
     "text": [
      "Mời nhập số nguyên thứ 1:  3\n",
      "Mời nhập số nguyên thứ 2:  5\n"
     ]
    },
    {
     "name": "stdout",
     "output_type": "stream",
     "text": [
      "Tích của 2 số nguyên 3 và 5 là 15\n"
     ]
    }
   ],
   "source": [
    "num1=int(input(\"Mời nhập số nguyên thứ 1: \"))\n",
    "num2=int(input(\"Mời nhập số nguyên thứ 2: \"))\n",
    "tich=num1*num2\n",
    "print(\"Tích của 2 số nguyên {0} và {1} là {2}\".format(num1,num2,tich))"
   ]
  },
  {
   "cell_type": "markdown",
   "id": "e39f614a-b8e7-4753-9e2b-b0be812046c9",
   "metadata": {},
   "source": [
    "## Bài 2"
   ]
  },
  {
   "cell_type": "markdown",
   "id": "871f6111-6166-4a21-9aa9-b9cbb47843dc",
   "metadata": {},
   "source": [
    "Nhập vào ba biến `diem_toan`, `diem_ly`, `diem_hoa` và in ra điểm trung bình của ba môn học trên."
   ]
  },
  {
   "cell_type": "code",
   "execution_count": 4,
   "id": "a8e671d0-5403-4bc1-b1a8-10646d5de917",
   "metadata": {},
   "outputs": [
    {
     "name": "stdin",
     "output_type": "stream",
     "text": [
      "Mời nhập điểm toán:  7\n",
      "Mời nhập điểm lý:  8\n",
      "Mời nhập điểm hoá:  9\n"
     ]
    },
    {
     "name": "stdout",
     "output_type": "stream",
     "text": [
      "Điểm trung bình của toán (7.0) lý (8.0) hoá (9.0) là: 8.0\n"
     ]
    }
   ],
   "source": [
    "diem_toan=float(input(\"Mời nhập điểm toán: \"))\n",
    "diem_ly=float(input(\"Mời nhập điểm lý: \"))\n",
    "diem_hoa=float(input(\"Mời nhập điểm hoá: \"))\n",
    "diem_trung_binh=(diem_toan+diem_ly+diem_hoa)/3\n",
    "print(\"Điểm trung bình của toán ({}) lý ({}) hoá ({}) là: {}\".format(diem_toan,diem_ly,diem_hoa,diem_trung_binh))"
   ]
  },
  {
   "cell_type": "markdown",
   "id": "1a168d04-8544-42a4-abad-9e849786a228",
   "metadata": {},
   "source": [
    "## Bài 3"
   ]
  },
  {
   "cell_type": "markdown",
   "id": "f5f34a10-39c3-4fca-bb16-29155c37010e",
   "metadata": {},
   "source": [
    "Nhập vào vận tốc của đoàn tàu theo đơn vị km/h.\n",
    "\n",
    "a. Hỏi trung bình mỗi phút đoàn tàu đi được bao nhiêu mét?\n",
    "\n",
    "b. Sau 1 giờ 12 phút đoàn tàu đi được bao nhiêu km?"
   ]
  },
  {
   "cell_type": "code",
   "execution_count": 13,
   "id": "3a1ffea0-efbd-462a-b59a-2fb1e9ff8220",
   "metadata": {},
   "outputs": [
    {
     "name": "stdin",
     "output_type": "stream",
     "text": [
      "Nhập vào vận tốc đoàn tàu theo đơn vị km/h:  33\n"
     ]
    },
    {
     "name": "stdout",
     "output_type": "stream",
     "text": [
      "Đáp án câu a: 550.0 m\n",
      "Đáp án câu b: 39.6 km\n"
     ]
    }
   ],
   "source": [
    "van_toc_km=float(input(\"Nhập vào vận tốc đoàn tàu theo đơn vị km/h: \"))\n",
    "dap_an_a=van_toc_km*1000/60\n",
    "dap_an_b=dap_an_a*(10**(-3))*12+van_toc_km\n",
    "print(f\"Đáp án câu a: {dap_an_a} m\")\n",
    "print(f\"Đáp án câu b: {dap_an_b} km\")"
   ]
  }
 ],
 "metadata": {
  "kernelspec": {
   "display_name": "Python 3 (ipykernel)",
   "language": "python",
   "name": "python3"
  },
  "language_info": {
   "codemirror_mode": {
    "name": "ipython",
    "version": 3
   },
   "file_extension": ".py",
   "mimetype": "text/x-python",
   "name": "python",
   "nbconvert_exporter": "python",
   "pygments_lexer": "ipython3",
   "version": "3.11.3"
  }
 },
 "nbformat": 4,
 "nbformat_minor": 5
}
